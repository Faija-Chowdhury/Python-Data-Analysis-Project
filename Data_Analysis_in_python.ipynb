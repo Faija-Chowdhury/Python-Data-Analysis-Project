{
 "cells": [
  {
   "cell_type": "markdown",
   "id": "628679d9-465b-45b7-84d6-f82bea80169f",
   "metadata": {},
   "source": [
    "## **Data Analysis Python project**"
   ]
  },
  {
   "cell_type": "markdown",
   "id": "cb78515d-35bb-421e-b1b2-f801e359da66",
   "metadata": {},
   "source": [
    "#### **import libraries**"
   ]
  },
  {
   "cell_type": "code",
   "execution_count": 155,
   "id": "443051ba-fd7d-49a7-b28d-04b3d4f4e6c6",
   "metadata": {},
   "outputs": [],
   "source": [
    "import pandas as pd\n",
    "import numpy as np\n",
    "import matplotlib.pyplot as plt\n",
    "import seaborn as sns\n",
    "\n"
   ]
  },
  {
   "cell_type": "markdown",
   "id": "23696258-891e-46b4-af80-7c1ee5ea38d0",
   "metadata": {},
   "source": [
    "#### **import Raw Data**"
   ]
  },
  {
   "cell_type": "code",
   "execution_count": 161,
   "id": "8850996e-f759-4b5e-9498-8248366c470e",
   "metadata": {},
   "outputs": [],
   "source": [
    "df = pd.read_csv(\"C:/Users/sabbi/Downloads/supermarket_data.csv\")"
   ]
  },
  {
   "cell_type": "markdown",
   "id": "ba3c2135-7894-4405-896d-affb47e6fd7c",
   "metadata": {},
   "source": [
    "#### **Sample Data**"
   ]
  },
  {
   "cell_type": "code",
   "execution_count": 163,
   "id": "fc948ae5-600b-499b-879b-66f51530e8d5",
   "metadata": {},
   "outputs": [
    {
     "data": {
      "text/html": [
       "<div>\n",
       "<style scoped>\n",
       "    .dataframe tbody tr th:only-of-type {\n",
       "        vertical-align: middle;\n",
       "    }\n",
       "\n",
       "    .dataframe tbody tr th {\n",
       "        vertical-align: top;\n",
       "    }\n",
       "\n",
       "    .dataframe thead th {\n",
       "        text-align: right;\n",
       "    }\n",
       "</style>\n",
       "<table border=\"1\" class=\"dataframe\">\n",
       "  <thead>\n",
       "    <tr style=\"text-align: right;\">\n",
       "      <th></th>\n",
       "      <th>Item Fat Content</th>\n",
       "      <th>Item Identifier</th>\n",
       "      <th>Item Type</th>\n",
       "      <th>Outlet Establishment Year</th>\n",
       "      <th>Outlet Identifier</th>\n",
       "      <th>Outlet Location Type</th>\n",
       "      <th>Outlet Size</th>\n",
       "      <th>Outlet Type</th>\n",
       "      <th>Item Visibility</th>\n",
       "      <th>Item Weight</th>\n",
       "      <th>Sales</th>\n",
       "      <th>Rating</th>\n",
       "    </tr>\n",
       "  </thead>\n",
       "  <tbody>\n",
       "    <tr>\n",
       "      <th>0</th>\n",
       "      <td>Regular</td>\n",
       "      <td>FDX32</td>\n",
       "      <td>Fruits and Vegetables</td>\n",
       "      <td>2012</td>\n",
       "      <td>OUT049</td>\n",
       "      <td>Tier 1</td>\n",
       "      <td>Medium</td>\n",
       "      <td>Supermarket Type1</td>\n",
       "      <td>0.100014</td>\n",
       "      <td>15.10</td>\n",
       "      <td>145.4786</td>\n",
       "      <td>5.0</td>\n",
       "    </tr>\n",
       "    <tr>\n",
       "      <th>1</th>\n",
       "      <td>Low Fat</td>\n",
       "      <td>NCB42</td>\n",
       "      <td>Health and Hygiene</td>\n",
       "      <td>2022</td>\n",
       "      <td>OUT018</td>\n",
       "      <td>Tier 3</td>\n",
       "      <td>Medium</td>\n",
       "      <td>Supermarket Type2</td>\n",
       "      <td>0.008596</td>\n",
       "      <td>11.80</td>\n",
       "      <td>115.3492</td>\n",
       "      <td>5.0</td>\n",
       "    </tr>\n",
       "    <tr>\n",
       "      <th>2</th>\n",
       "      <td>Regular</td>\n",
       "      <td>FDR28</td>\n",
       "      <td>Frozen Foods</td>\n",
       "      <td>2010</td>\n",
       "      <td>OUT046</td>\n",
       "      <td>Tier 1</td>\n",
       "      <td>Small</td>\n",
       "      <td>Supermarket Type1</td>\n",
       "      <td>0.025896</td>\n",
       "      <td>13.85</td>\n",
       "      <td>165.0210</td>\n",
       "      <td>5.0</td>\n",
       "    </tr>\n",
       "    <tr>\n",
       "      <th>3</th>\n",
       "      <td>Regular</td>\n",
       "      <td>FDL50</td>\n",
       "      <td>Canned</td>\n",
       "      <td>2000</td>\n",
       "      <td>OUT013</td>\n",
       "      <td>Tier 3</td>\n",
       "      <td>High</td>\n",
       "      <td>Supermarket Type1</td>\n",
       "      <td>0.042278</td>\n",
       "      <td>12.15</td>\n",
       "      <td>126.5046</td>\n",
       "      <td>5.0</td>\n",
       "    </tr>\n",
       "    <tr>\n",
       "      <th>4</th>\n",
       "      <td>Low Fat</td>\n",
       "      <td>DRI25</td>\n",
       "      <td>Soft Drinks</td>\n",
       "      <td>2015</td>\n",
       "      <td>OUT045</td>\n",
       "      <td>Tier 2</td>\n",
       "      <td>Small</td>\n",
       "      <td>Supermarket Type1</td>\n",
       "      <td>0.033970</td>\n",
       "      <td>19.60</td>\n",
       "      <td>55.1614</td>\n",
       "      <td>5.0</td>\n",
       "    </tr>\n",
       "    <tr>\n",
       "      <th>5</th>\n",
       "      <td>low fat</td>\n",
       "      <td>FDS52</td>\n",
       "      <td>Frozen Foods</td>\n",
       "      <td>2020</td>\n",
       "      <td>OUT017</td>\n",
       "      <td>Tier 2</td>\n",
       "      <td>Small</td>\n",
       "      <td>Supermarket Type1</td>\n",
       "      <td>0.005505</td>\n",
       "      <td>8.89</td>\n",
       "      <td>102.4016</td>\n",
       "      <td>5.0</td>\n",
       "    </tr>\n",
       "    <tr>\n",
       "      <th>6</th>\n",
       "      <td>Low Fat</td>\n",
       "      <td>NCU05</td>\n",
       "      <td>Health and Hygiene</td>\n",
       "      <td>2011</td>\n",
       "      <td>OUT010</td>\n",
       "      <td>Tier 3</td>\n",
       "      <td>Small</td>\n",
       "      <td>Grocery Store</td>\n",
       "      <td>0.098312</td>\n",
       "      <td>11.80</td>\n",
       "      <td>81.4618</td>\n",
       "      <td>5.0</td>\n",
       "    </tr>\n",
       "    <tr>\n",
       "      <th>7</th>\n",
       "      <td>Low Fat</td>\n",
       "      <td>NCD30</td>\n",
       "      <td>Household</td>\n",
       "      <td>2015</td>\n",
       "      <td>OUT045</td>\n",
       "      <td>Tier 2</td>\n",
       "      <td>Small</td>\n",
       "      <td>Supermarket Type1</td>\n",
       "      <td>0.026904</td>\n",
       "      <td>19.70</td>\n",
       "      <td>96.0726</td>\n",
       "      <td>5.0</td>\n",
       "    </tr>\n",
       "    <tr>\n",
       "      <th>8</th>\n",
       "      <td>Low Fat</td>\n",
       "      <td>FDW20</td>\n",
       "      <td>Fruits and Vegetables</td>\n",
       "      <td>2000</td>\n",
       "      <td>OUT013</td>\n",
       "      <td>Tier 3</td>\n",
       "      <td>High</td>\n",
       "      <td>Supermarket Type1</td>\n",
       "      <td>0.024129</td>\n",
       "      <td>20.75</td>\n",
       "      <td>124.1730</td>\n",
       "      <td>5.0</td>\n",
       "    </tr>\n",
       "    <tr>\n",
       "      <th>9</th>\n",
       "      <td>Low Fat</td>\n",
       "      <td>FDX25</td>\n",
       "      <td>Canned</td>\n",
       "      <td>1998</td>\n",
       "      <td>OUT027</td>\n",
       "      <td>Tier 3</td>\n",
       "      <td>Medium</td>\n",
       "      <td>Supermarket Type3</td>\n",
       "      <td>0.101562</td>\n",
       "      <td>NaN</td>\n",
       "      <td>181.9292</td>\n",
       "      <td>5.0</td>\n",
       "    </tr>\n",
       "    <tr>\n",
       "      <th>10</th>\n",
       "      <td>LF</td>\n",
       "      <td>FDX21</td>\n",
       "      <td>Snack Foods</td>\n",
       "      <td>1998</td>\n",
       "      <td>OUT027</td>\n",
       "      <td>Tier 3</td>\n",
       "      <td>Medium</td>\n",
       "      <td>Supermarket Type3</td>\n",
       "      <td>0.084555</td>\n",
       "      <td>NaN</td>\n",
       "      <td>109.8912</td>\n",
       "      <td>5.0</td>\n",
       "    </tr>\n",
       "    <tr>\n",
       "      <th>11</th>\n",
       "      <td>Low Fat</td>\n",
       "      <td>NCU41</td>\n",
       "      <td>Health and Hygiene</td>\n",
       "      <td>2017</td>\n",
       "      <td>OUT035</td>\n",
       "      <td>Tier 2</td>\n",
       "      <td>Small</td>\n",
       "      <td>Supermarket Type1</td>\n",
       "      <td>0.052045</td>\n",
       "      <td>18.85</td>\n",
       "      <td>192.1846</td>\n",
       "      <td>5.0</td>\n",
       "    </tr>\n",
       "    <tr>\n",
       "      <th>12</th>\n",
       "      <td>Low Fat</td>\n",
       "      <td>FDL20</td>\n",
       "      <td>Fruits and Vegetables</td>\n",
       "      <td>2022</td>\n",
       "      <td>OUT018</td>\n",
       "      <td>Tier 3</td>\n",
       "      <td>Medium</td>\n",
       "      <td>Supermarket Type2</td>\n",
       "      <td>0.128938</td>\n",
       "      <td>17.10</td>\n",
       "      <td>112.3886</td>\n",
       "      <td>5.0</td>\n",
       "    </tr>\n",
       "    <tr>\n",
       "      <th>13</th>\n",
       "      <td>Low Fat</td>\n",
       "      <td>NCR54</td>\n",
       "      <td>Household</td>\n",
       "      <td>2000</td>\n",
       "      <td>OUT013</td>\n",
       "      <td>Tier 3</td>\n",
       "      <td>High</td>\n",
       "      <td>Supermarket Type1</td>\n",
       "      <td>0.090487</td>\n",
       "      <td>16.35</td>\n",
       "      <td>195.2110</td>\n",
       "      <td>5.0</td>\n",
       "    </tr>\n",
       "    <tr>\n",
       "      <th>14</th>\n",
       "      <td>Low Fat</td>\n",
       "      <td>FDH19</td>\n",
       "      <td>Meat</td>\n",
       "      <td>1998</td>\n",
       "      <td>OUT027</td>\n",
       "      <td>Tier 3</td>\n",
       "      <td>Medium</td>\n",
       "      <td>Supermarket Type3</td>\n",
       "      <td>0.032928</td>\n",
       "      <td>NaN</td>\n",
       "      <td>173.1738</td>\n",
       "      <td>5.0</td>\n",
       "    </tr>\n",
       "    <tr>\n",
       "      <th>15</th>\n",
       "      <td>Regular</td>\n",
       "      <td>FDB57</td>\n",
       "      <td>Fruits and Vegetables</td>\n",
       "      <td>2017</td>\n",
       "      <td>OUT035</td>\n",
       "      <td>Tier 2</td>\n",
       "      <td>Small</td>\n",
       "      <td>Supermarket Type1</td>\n",
       "      <td>0.018802</td>\n",
       "      <td>20.25</td>\n",
       "      <td>222.1772</td>\n",
       "      <td>5.0</td>\n",
       "    </tr>\n",
       "    <tr>\n",
       "      <th>16</th>\n",
       "      <td>Low Fat</td>\n",
       "      <td>FDO23</td>\n",
       "      <td>Breads</td>\n",
       "      <td>2022</td>\n",
       "      <td>OUT018</td>\n",
       "      <td>Tier 3</td>\n",
       "      <td>Medium</td>\n",
       "      <td>Supermarket Type2</td>\n",
       "      <td>0.147024</td>\n",
       "      <td>17.85</td>\n",
       "      <td>93.7436</td>\n",
       "      <td>5.0</td>\n",
       "    </tr>\n",
       "    <tr>\n",
       "      <th>17</th>\n",
       "      <td>Low Fat</td>\n",
       "      <td>NCB07</td>\n",
       "      <td>Household</td>\n",
       "      <td>2012</td>\n",
       "      <td>OUT049</td>\n",
       "      <td>Tier 1</td>\n",
       "      <td>Medium</td>\n",
       "      <td>Supermarket Type1</td>\n",
       "      <td>0.077628</td>\n",
       "      <td>19.20</td>\n",
       "      <td>197.6110</td>\n",
       "      <td>5.0</td>\n",
       "    </tr>\n",
       "    <tr>\n",
       "      <th>18</th>\n",
       "      <td>Low Fat</td>\n",
       "      <td>FDJ56</td>\n",
       "      <td>Fruits and Vegetables</td>\n",
       "      <td>1998</td>\n",
       "      <td>OUT027</td>\n",
       "      <td>Tier 3</td>\n",
       "      <td>Medium</td>\n",
       "      <td>Supermarket Type3</td>\n",
       "      <td>0.182515</td>\n",
       "      <td>NaN</td>\n",
       "      <td>98.7700</td>\n",
       "      <td>5.0</td>\n",
       "    </tr>\n",
       "    <tr>\n",
       "      <th>19</th>\n",
       "      <td>Low Fat</td>\n",
       "      <td>DRN47</td>\n",
       "      <td>Hard Drinks</td>\n",
       "      <td>2022</td>\n",
       "      <td>OUT018</td>\n",
       "      <td>Tier 3</td>\n",
       "      <td>Medium</td>\n",
       "      <td>Supermarket Type2</td>\n",
       "      <td>0.016895</td>\n",
       "      <td>12.10</td>\n",
       "      <td>178.5660</td>\n",
       "      <td>5.0</td>\n",
       "    </tr>\n",
       "  </tbody>\n",
       "</table>\n",
       "</div>"
      ],
      "text/plain": [
       "   Item Fat Content Item Identifier              Item Type  \\\n",
       "0           Regular           FDX32  Fruits and Vegetables   \n",
       "1           Low Fat           NCB42     Health and Hygiene   \n",
       "2           Regular           FDR28           Frozen Foods   \n",
       "3           Regular           FDL50                 Canned   \n",
       "4           Low Fat           DRI25            Soft Drinks   \n",
       "5           low fat           FDS52           Frozen Foods   \n",
       "6           Low Fat           NCU05     Health and Hygiene   \n",
       "7           Low Fat           NCD30              Household   \n",
       "8           Low Fat           FDW20  Fruits and Vegetables   \n",
       "9           Low Fat           FDX25                 Canned   \n",
       "10               LF           FDX21            Snack Foods   \n",
       "11          Low Fat           NCU41     Health and Hygiene   \n",
       "12          Low Fat           FDL20  Fruits and Vegetables   \n",
       "13          Low Fat           NCR54              Household   \n",
       "14          Low Fat           FDH19                   Meat   \n",
       "15          Regular           FDB57  Fruits and Vegetables   \n",
       "16          Low Fat           FDO23                 Breads   \n",
       "17          Low Fat           NCB07              Household   \n",
       "18          Low Fat           FDJ56  Fruits and Vegetables   \n",
       "19          Low Fat           DRN47            Hard Drinks   \n",
       "\n",
       "    Outlet Establishment Year Outlet Identifier Outlet Location Type  \\\n",
       "0                        2012            OUT049               Tier 1   \n",
       "1                        2022            OUT018               Tier 3   \n",
       "2                        2010            OUT046               Tier 1   \n",
       "3                        2000            OUT013               Tier 3   \n",
       "4                        2015            OUT045               Tier 2   \n",
       "5                        2020            OUT017               Tier 2   \n",
       "6                        2011            OUT010               Tier 3   \n",
       "7                        2015            OUT045               Tier 2   \n",
       "8                        2000            OUT013               Tier 3   \n",
       "9                        1998            OUT027               Tier 3   \n",
       "10                       1998            OUT027               Tier 3   \n",
       "11                       2017            OUT035               Tier 2   \n",
       "12                       2022            OUT018               Tier 3   \n",
       "13                       2000            OUT013               Tier 3   \n",
       "14                       1998            OUT027               Tier 3   \n",
       "15                       2017            OUT035               Tier 2   \n",
       "16                       2022            OUT018               Tier 3   \n",
       "17                       2012            OUT049               Tier 1   \n",
       "18                       1998            OUT027               Tier 3   \n",
       "19                       2022            OUT018               Tier 3   \n",
       "\n",
       "   Outlet Size        Outlet Type  Item Visibility  Item Weight     Sales  \\\n",
       "0       Medium  Supermarket Type1         0.100014        15.10  145.4786   \n",
       "1       Medium  Supermarket Type2         0.008596        11.80  115.3492   \n",
       "2        Small  Supermarket Type1         0.025896        13.85  165.0210   \n",
       "3         High  Supermarket Type1         0.042278        12.15  126.5046   \n",
       "4        Small  Supermarket Type1         0.033970        19.60   55.1614   \n",
       "5        Small  Supermarket Type1         0.005505         8.89  102.4016   \n",
       "6        Small      Grocery Store         0.098312        11.80   81.4618   \n",
       "7        Small  Supermarket Type1         0.026904        19.70   96.0726   \n",
       "8         High  Supermarket Type1         0.024129        20.75  124.1730   \n",
       "9       Medium  Supermarket Type3         0.101562          NaN  181.9292   \n",
       "10      Medium  Supermarket Type3         0.084555          NaN  109.8912   \n",
       "11       Small  Supermarket Type1         0.052045        18.85  192.1846   \n",
       "12      Medium  Supermarket Type2         0.128938        17.10  112.3886   \n",
       "13        High  Supermarket Type1         0.090487        16.35  195.2110   \n",
       "14      Medium  Supermarket Type3         0.032928          NaN  173.1738   \n",
       "15       Small  Supermarket Type1         0.018802        20.25  222.1772   \n",
       "16      Medium  Supermarket Type2         0.147024        17.85   93.7436   \n",
       "17      Medium  Supermarket Type1         0.077628        19.20  197.6110   \n",
       "18      Medium  Supermarket Type3         0.182515          NaN   98.7700   \n",
       "19      Medium  Supermarket Type2         0.016895        12.10  178.5660   \n",
       "\n",
       "    Rating  \n",
       "0      5.0  \n",
       "1      5.0  \n",
       "2      5.0  \n",
       "3      5.0  \n",
       "4      5.0  \n",
       "5      5.0  \n",
       "6      5.0  \n",
       "7      5.0  \n",
       "8      5.0  \n",
       "9      5.0  \n",
       "10     5.0  \n",
       "11     5.0  \n",
       "12     5.0  \n",
       "13     5.0  \n",
       "14     5.0  \n",
       "15     5.0  \n",
       "16     5.0  \n",
       "17     5.0  \n",
       "18     5.0  \n",
       "19     5.0  "
      ]
     },
     "execution_count": 163,
     "metadata": {},
     "output_type": "execute_result"
    }
   ],
   "source": [
    "df.head(20)"
   ]
  },
  {
   "cell_type": "code",
   "execution_count": 165,
   "id": "81560626-460d-4b7b-a2d0-58a4e922cb26",
   "metadata": {},
   "outputs": [
    {
     "data": {
      "text/html": [
       "<div>\n",
       "<style scoped>\n",
       "    .dataframe tbody tr th:only-of-type {\n",
       "        vertical-align: middle;\n",
       "    }\n",
       "\n",
       "    .dataframe tbody tr th {\n",
       "        vertical-align: top;\n",
       "    }\n",
       "\n",
       "    .dataframe thead th {\n",
       "        text-align: right;\n",
       "    }\n",
       "</style>\n",
       "<table border=\"1\" class=\"dataframe\">\n",
       "  <thead>\n",
       "    <tr style=\"text-align: right;\">\n",
       "      <th></th>\n",
       "      <th>Item Fat Content</th>\n",
       "      <th>Item Identifier</th>\n",
       "      <th>Item Type</th>\n",
       "      <th>Outlet Establishment Year</th>\n",
       "      <th>Outlet Identifier</th>\n",
       "      <th>Outlet Location Type</th>\n",
       "      <th>Outlet Size</th>\n",
       "      <th>Outlet Type</th>\n",
       "      <th>Item Visibility</th>\n",
       "      <th>Item Weight</th>\n",
       "      <th>Sales</th>\n",
       "      <th>Rating</th>\n",
       "    </tr>\n",
       "  </thead>\n",
       "  <tbody>\n",
       "    <tr>\n",
       "      <th>8513</th>\n",
       "      <td>Regular</td>\n",
       "      <td>DRY23</td>\n",
       "      <td>Soft Drinks</td>\n",
       "      <td>1998</td>\n",
       "      <td>OUT027</td>\n",
       "      <td>Tier 3</td>\n",
       "      <td>Medium</td>\n",
       "      <td>Supermarket Type3</td>\n",
       "      <td>0.108568</td>\n",
       "      <td>NaN</td>\n",
       "      <td>42.9112</td>\n",
       "      <td>4.0</td>\n",
       "    </tr>\n",
       "    <tr>\n",
       "      <th>8514</th>\n",
       "      <td>low fat</td>\n",
       "      <td>FDA11</td>\n",
       "      <td>Baking Goods</td>\n",
       "      <td>1998</td>\n",
       "      <td>OUT027</td>\n",
       "      <td>Tier 3</td>\n",
       "      <td>Medium</td>\n",
       "      <td>Supermarket Type3</td>\n",
       "      <td>0.043029</td>\n",
       "      <td>NaN</td>\n",
       "      <td>94.7436</td>\n",
       "      <td>4.0</td>\n",
       "    </tr>\n",
       "    <tr>\n",
       "      <th>8515</th>\n",
       "      <td>low fat</td>\n",
       "      <td>FDK38</td>\n",
       "      <td>Canned</td>\n",
       "      <td>1998</td>\n",
       "      <td>OUT027</td>\n",
       "      <td>Tier 3</td>\n",
       "      <td>Medium</td>\n",
       "      <td>Supermarket Type3</td>\n",
       "      <td>0.053032</td>\n",
       "      <td>NaN</td>\n",
       "      <td>149.1734</td>\n",
       "      <td>4.0</td>\n",
       "    </tr>\n",
       "    <tr>\n",
       "      <th>8516</th>\n",
       "      <td>low fat</td>\n",
       "      <td>FDO38</td>\n",
       "      <td>Canned</td>\n",
       "      <td>1998</td>\n",
       "      <td>OUT027</td>\n",
       "      <td>Tier 3</td>\n",
       "      <td>Medium</td>\n",
       "      <td>Supermarket Type3</td>\n",
       "      <td>0.072486</td>\n",
       "      <td>NaN</td>\n",
       "      <td>78.9986</td>\n",
       "      <td>4.0</td>\n",
       "    </tr>\n",
       "    <tr>\n",
       "      <th>8517</th>\n",
       "      <td>low fat</td>\n",
       "      <td>FDG32</td>\n",
       "      <td>Fruits and Vegetables</td>\n",
       "      <td>1998</td>\n",
       "      <td>OUT027</td>\n",
       "      <td>Tier 3</td>\n",
       "      <td>Medium</td>\n",
       "      <td>Supermarket Type3</td>\n",
       "      <td>0.175143</td>\n",
       "      <td>NaN</td>\n",
       "      <td>222.3772</td>\n",
       "      <td>4.0</td>\n",
       "    </tr>\n",
       "    <tr>\n",
       "      <th>8518</th>\n",
       "      <td>low fat</td>\n",
       "      <td>NCT53</td>\n",
       "      <td>Health and Hygiene</td>\n",
       "      <td>1998</td>\n",
       "      <td>OUT027</td>\n",
       "      <td>Tier 3</td>\n",
       "      <td>Medium</td>\n",
       "      <td>Supermarket Type3</td>\n",
       "      <td>0.000000</td>\n",
       "      <td>NaN</td>\n",
       "      <td>164.5526</td>\n",
       "      <td>4.0</td>\n",
       "    </tr>\n",
       "    <tr>\n",
       "      <th>8519</th>\n",
       "      <td>low fat</td>\n",
       "      <td>FDN09</td>\n",
       "      <td>Snack Foods</td>\n",
       "      <td>1998</td>\n",
       "      <td>OUT027</td>\n",
       "      <td>Tier 3</td>\n",
       "      <td>Medium</td>\n",
       "      <td>Supermarket Type3</td>\n",
       "      <td>0.034706</td>\n",
       "      <td>NaN</td>\n",
       "      <td>241.6828</td>\n",
       "      <td>4.0</td>\n",
       "    </tr>\n",
       "    <tr>\n",
       "      <th>8520</th>\n",
       "      <td>low fat</td>\n",
       "      <td>DRE13</td>\n",
       "      <td>Soft Drinks</td>\n",
       "      <td>1998</td>\n",
       "      <td>OUT027</td>\n",
       "      <td>Tier 3</td>\n",
       "      <td>Medium</td>\n",
       "      <td>Supermarket Type3</td>\n",
       "      <td>0.027571</td>\n",
       "      <td>NaN</td>\n",
       "      <td>86.6198</td>\n",
       "      <td>4.0</td>\n",
       "    </tr>\n",
       "    <tr>\n",
       "      <th>8521</th>\n",
       "      <td>reg</td>\n",
       "      <td>FDT50</td>\n",
       "      <td>Dairy</td>\n",
       "      <td>1998</td>\n",
       "      <td>OUT027</td>\n",
       "      <td>Tier 3</td>\n",
       "      <td>Medium</td>\n",
       "      <td>Supermarket Type3</td>\n",
       "      <td>0.107715</td>\n",
       "      <td>NaN</td>\n",
       "      <td>97.8752</td>\n",
       "      <td>4.0</td>\n",
       "    </tr>\n",
       "    <tr>\n",
       "      <th>8522</th>\n",
       "      <td>reg</td>\n",
       "      <td>FDM58</td>\n",
       "      <td>Snack Foods</td>\n",
       "      <td>1998</td>\n",
       "      <td>OUT027</td>\n",
       "      <td>Tier 3</td>\n",
       "      <td>Medium</td>\n",
       "      <td>Supermarket Type3</td>\n",
       "      <td>0.000000</td>\n",
       "      <td>NaN</td>\n",
       "      <td>112.2544</td>\n",
       "      <td>4.0</td>\n",
       "    </tr>\n",
       "  </tbody>\n",
       "</table>\n",
       "</div>"
      ],
      "text/plain": [
       "     Item Fat Content Item Identifier              Item Type  \\\n",
       "8513          Regular           DRY23            Soft Drinks   \n",
       "8514          low fat           FDA11           Baking Goods   \n",
       "8515          low fat           FDK38                 Canned   \n",
       "8516          low fat           FDO38                 Canned   \n",
       "8517          low fat           FDG32  Fruits and Vegetables   \n",
       "8518          low fat           NCT53     Health and Hygiene   \n",
       "8519          low fat           FDN09            Snack Foods   \n",
       "8520          low fat           DRE13            Soft Drinks   \n",
       "8521              reg           FDT50                  Dairy   \n",
       "8522              reg           FDM58            Snack Foods   \n",
       "\n",
       "      Outlet Establishment Year Outlet Identifier Outlet Location Type  \\\n",
       "8513                       1998            OUT027               Tier 3   \n",
       "8514                       1998            OUT027               Tier 3   \n",
       "8515                       1998            OUT027               Tier 3   \n",
       "8516                       1998            OUT027               Tier 3   \n",
       "8517                       1998            OUT027               Tier 3   \n",
       "8518                       1998            OUT027               Tier 3   \n",
       "8519                       1998            OUT027               Tier 3   \n",
       "8520                       1998            OUT027               Tier 3   \n",
       "8521                       1998            OUT027               Tier 3   \n",
       "8522                       1998            OUT027               Tier 3   \n",
       "\n",
       "     Outlet Size        Outlet Type  Item Visibility  Item Weight     Sales  \\\n",
       "8513      Medium  Supermarket Type3         0.108568          NaN   42.9112   \n",
       "8514      Medium  Supermarket Type3         0.043029          NaN   94.7436   \n",
       "8515      Medium  Supermarket Type3         0.053032          NaN  149.1734   \n",
       "8516      Medium  Supermarket Type3         0.072486          NaN   78.9986   \n",
       "8517      Medium  Supermarket Type3         0.175143          NaN  222.3772   \n",
       "8518      Medium  Supermarket Type3         0.000000          NaN  164.5526   \n",
       "8519      Medium  Supermarket Type3         0.034706          NaN  241.6828   \n",
       "8520      Medium  Supermarket Type3         0.027571          NaN   86.6198   \n",
       "8521      Medium  Supermarket Type3         0.107715          NaN   97.8752   \n",
       "8522      Medium  Supermarket Type3         0.000000          NaN  112.2544   \n",
       "\n",
       "      Rating  \n",
       "8513     4.0  \n",
       "8514     4.0  \n",
       "8515     4.0  \n",
       "8516     4.0  \n",
       "8517     4.0  \n",
       "8518     4.0  \n",
       "8519     4.0  \n",
       "8520     4.0  \n",
       "8521     4.0  \n",
       "8522     4.0  "
      ]
     },
     "execution_count": 165,
     "metadata": {},
     "output_type": "execute_result"
    }
   ],
   "source": [
    "df.tail(10)"
   ]
  },
  {
   "cell_type": "markdown",
   "id": "86144f00-9538-4380-8c72-f4a7df1d5bb6",
   "metadata": {},
   "source": [
    "#### **Size of Data**"
   ]
  },
  {
   "cell_type": "code",
   "execution_count": 167,
   "id": "ab298c47-bc94-4335-a12c-1ea2c549eb8b",
   "metadata": {},
   "outputs": [
    {
     "name": "stdout",
     "output_type": "stream",
     "text": [
      "Size of Data: (8523, 12)\n"
     ]
    }
   ],
   "source": [
    "print(\"Size of Data:\",df.shape)"
   ]
  },
  {
   "cell_type": "markdown",
   "id": "a0452177-adcf-478a-b9b7-316e2290e64a",
   "metadata": {},
   "source": [
    "#### **Field Info**"
   ]
  },
  {
   "cell_type": "code",
   "execution_count": 169,
   "id": "6e1fbc9d-362f-434c-a8f3-3f1abffb26f0",
   "metadata": {},
   "outputs": [
    {
     "data": {
      "text/plain": [
       "Index(['Item Fat Content', 'Item Identifier', 'Item Type',\n",
       "       'Outlet Establishment Year', 'Outlet Identifier',\n",
       "       'Outlet Location Type', 'Outlet Size', 'Outlet Type', 'Item Visibility',\n",
       "       'Item Weight', 'Sales', 'Rating'],\n",
       "      dtype='object')"
      ]
     },
     "execution_count": 169,
     "metadata": {},
     "output_type": "execute_result"
    }
   ],
   "source": [
    "df.columns"
   ]
  },
  {
   "cell_type": "markdown",
   "id": "0849f7ec-4302-48b9-a86f-9748d7f7d306",
   "metadata": {},
   "source": [
    "#### **Data types**"
   ]
  },
  {
   "cell_type": "code",
   "execution_count": 171,
   "id": "b5f81356-dc98-403e-bf5b-14029d564745",
   "metadata": {},
   "outputs": [
    {
     "data": {
      "text/plain": [
       "Item Fat Content              object\n",
       "Item Identifier               object\n",
       "Item Type                     object\n",
       "Outlet Establishment Year      int64\n",
       "Outlet Identifier             object\n",
       "Outlet Location Type          object\n",
       "Outlet Size                   object\n",
       "Outlet Type                   object\n",
       "Item Visibility              float64\n",
       "Item Weight                  float64\n",
       "Sales                        float64\n",
       "Rating                       float64\n",
       "dtype: object"
      ]
     },
     "execution_count": 171,
     "metadata": {},
     "output_type": "execute_result"
    }
   ],
   "source": [
    "df.dtypes"
   ]
  },
  {
   "cell_type": "markdown",
   "id": "4acc105b-57ea-4104-98d1-c1ee1126aea5",
   "metadata": {},
   "source": [
    "#### **Data Cleaning**"
   ]
  },
  {
   "cell_type": "code",
   "execution_count": 173,
   "id": "0b27e9c7-5e42-4f1f-8026-3af811ef411b",
   "metadata": {},
   "outputs": [
    {
     "name": "stdout",
     "output_type": "stream",
     "text": [
      "['Regular' 'Low Fat' 'low fat' 'LF' 'reg']\n"
     ]
    }
   ],
   "source": [
    "print(df['Item Fat Content'].unique())"
   ]
  },
  {
   "cell_type": "code",
   "execution_count": 175,
   "id": "423eb8e4-851a-44f3-a8a0-de3f89a1357a",
   "metadata": {},
   "outputs": [],
   "source": [
    "df['Item Fat Content']=df['Item Fat Content'].replace({'LF':'Low Fat','low fat':'Low Fat','reg':'Regular'})"
   ]
  },
  {
   "cell_type": "code",
   "execution_count": 177,
   "id": "1be4990f-65b0-4e65-b18d-34b311bc43e0",
   "metadata": {},
   "outputs": [
    {
     "name": "stdout",
     "output_type": "stream",
     "text": [
      "['Regular' 'Low Fat']\n"
     ]
    }
   ],
   "source": [
    "print(df['Item Fat Content'].unique())"
   ]
  },
  {
   "cell_type": "code",
   "execution_count": 179,
   "id": "050de7e1-eb1a-4a0a-84d2-34f49723da53",
   "metadata": {},
   "outputs": [
    {
     "name": "stdout",
     "output_type": "stream",
     "text": [
      "['Regular' 'Low Fat']\n"
     ]
    }
   ],
   "source": [
    "print(df['Item Fat Content'].unique())"
   ]
  },
  {
   "cell_type": "code",
   "execution_count": 181,
   "id": "a9ed95e1-392f-4acd-a491-90309eff922c",
   "metadata": {},
   "outputs": [],
   "source": [
    "df['Item Fat Content']=df['Item Fat Content'].replace({'LF':'Low Fat','low fat':'Low Fat','reg':'Regular','Reqular':'Regular'})"
   ]
  },
  {
   "cell_type": "code",
   "execution_count": 183,
   "id": "3b16ec26-6244-4472-9ee2-93e9a71ce1a0",
   "metadata": {},
   "outputs": [
    {
     "name": "stdout",
     "output_type": "stream",
     "text": [
      "['Regular' 'Low Fat']\n"
     ]
    }
   ],
   "source": [
    "print(df['Item Fat Content'].unique())"
   ]
  },
  {
   "cell_type": "markdown",
   "id": "d105a71e-b6b5-4e58-adf8-009a70e15dd6",
   "metadata": {},
   "source": [
    "#### **Solve the problem**"
   ]
  },
  {
   "cell_type": "code",
   "execution_count": 186,
   "id": "1f9ca928-86c6-4545-8c9f-0bc1e59cc13f",
   "metadata": {},
   "outputs": [
    {
     "name": "stdout",
     "output_type": "stream",
     "text": [
      "Total Sales: $1,201,681.5\n",
      "Total Sales: $140.99\n",
      "Total Sales: $8,523\n",
      "Total Sales: $4\n"
     ]
    }
   ],
   "source": [
    "total_sales=df['Sales'].sum()\n",
    "average_sales=df['Sales'].mean()\n",
    "number_of_items_sold=df['Sales'].count()\n",
    "average_rating=df['Rating'].mean()\n",
    "print(f\"Total Sales: ${total_sales:,.1f}\") #Display\n",
    "\n",
    "print(f\"Average Sales: ${average_sales:,.2f}\")\n",
    "print(f\"Number of items Sold: ${number_of_items_sold:,.0f}\")\n",
    "print(f\"Average rating: ${average_rating:,.0f}\")\n"
   ]
  },
  {
   "cell_type": "markdown",
   "id": "1047b1fb-5a53-4255-947a-91987747e619",
   "metadata": {},
   "source": [
    "#### **Chart**"
   ]
  },
  {
   "cell_type": "markdown",
   "id": "1766d779-d75b-4d04-a08b-bf351634a0fb",
   "metadata": {},
   "source": [
    "#### **Total sales by fat content**"
   ]
  },
  {
   "cell_type": "code",
   "execution_count": 188,
   "id": "33ad7b85-7903-49ca-b1b4-3619ebeb3c8c",
   "metadata": {},
   "outputs": [
    {
     "data": {
      "image/png": "[encoded data removed]",
      "text/plain": [
       "<Figure size 640x480 with 1 Axes>"
      ]
     },
     "metadata": {},
     "output_type": "display_data"
    }
   ],
   "source": [
    "sales_by_fat=df.groupby('Item Fat Content')['Sales'].sum()\n",
    "plt.pie(sales_by_fat, labels = sales_by_fat.index, autopct ='%.1f%%', startangle = 90)\n",
    "plt.title('Sales by Fat Content')\n",
    "plt.axis('equal')\n",
    "plt.show()"
   ]
  },
  {
   "cell_type": "markdown",
   "id": "343daa50-478b-49f7-94c9-fc86b5ccd7b3",
   "metadata": {},
   "source": [
    "#### **Total sales by Item Type**"
   ]
  },
  {
   "cell_type": "code",
   "execution_count": 190,
   "id": "95ce32b0-8a14-4d6a-a1c4-6eea0427b6f4",
   "metadata": {},
   "outputs": [
    {
     "data": {
      "image/png": "[encoded data removed]",
      "text/plain": [
       "<Figure size 1000x600 with 1 Axes>"
      ]
     },
     "metadata": {},
     "output_type": "display_data"
    }
   ],
   "source": [
    "Sales_by_type = df.groupby('Item Type')['Sales'].sum().sort_values(ascending=False)\n",
    "plt.figure(figsize=(10,6))\n",
    "bars = plt.bar(Sales_by_type.index, Sales_by_type.values)\n",
    "plt.xticks(rotation=-90)\n",
    "plt.xlabel('Item Type')\n",
    "plt.ylabel('Total Sales')\n",
    "plt.title('Total Sales by Item Type')\n",
    "\n",
    "for bar in bars:\n",
    "    plt.text(bar.get_x() + bar.get_width()/2, bar.get_height(),\n",
    "             f'{bar.get_height():,.0f}', ha='center', va='bottom', fontsize =8)\n",
    "\n",
    "plt.tight_layout()\n",
    "plt.show()\n",
    "             "
   ]
  },
  {
   "cell_type": "markdown",
   "id": "40ba699f-49a0-408a-b851-f988c59453b9",
   "metadata": {},
   "source": [
    "#### Fat content by outlet for sales \n"
   ]
  },
  {
   "cell_type": "code",
   "execution_count": 193,
   "id": "d51bbe75-6f42-4ec8-8d3a-b48e344de38f",
   "metadata": {},
   "outputs": [
    {
     "data": {
      "image/png": "[encoded data removed]",
      "text/plain": [
       "<Figure size 800x500 with 1 Axes>"
      ]
     },
     "metadata": {},
     "output_type": "display_data"
    }
   ],
   "source": [
    "grouped = df.groupby(['Outlet Location Type', 'Item Fat Content'])['Sales'].sum().unstack()\n",
    "grouped = grouped[['Regular', 'Low Fat']]\n",
    "ax = grouped.plot(kind='bar', figsize=(8,5), title=\"Outlet Tier by Item Fat Contant\")\n",
    "plt.xlabel('Outlet Location Tier')\n",
    "plt.ylabel('Total Sales')\n",
    "plt.legend(title='Item Fat Content')\n",
    "plt.tight_layout()\n",
    "plt.show()"
   ]
  },
  {
   "cell_type": "markdown",
   "id": "7104231b-d866-4302-a397-2f634278bb87",
   "metadata": {},
   "source": [
    "\n",
    "#### **Fat content by outlet for sales** "
   ]
  },
  {
   "cell_type": "code",
   "execution_count": 196,
   "id": "10af7d60-3f7b-447a-9a36-52da58a98a3f",
   "metadata": {},
   "outputs": [
    {
     "data": {
      "image/png": "[encoded data removed]",
      "text/plain": [
       "<Figure size 900x500 with 1 Axes>"
      ]
     },
     "metadata": {},
     "output_type": "display_data"
    }
   ],
   "source": [
    "Sales_by_year = df.groupby('Outlet Establishment Year')['Sales'].sum().sort_index()\n",
    "plt.figure(figsize=(9,5))\n",
    "plt.plot(Sales_by_year.index, Sales_by_year.values, marker='o', linestyle='-')\n",
    "plt.xlabel('Outlet Establishment Year')\n",
    "plt.ylabel('Total Sales')\n",
    "plt.title('Outlet Establishment')\n",
    "for x, y in zip(Sales_by_year.index, Sales_by_year.values):\n",
    "    plt.text(x,y, f'{y:,.0f}', ha= 'center', va='bottom', fontsize = 8)\n",
    "plt.tight_layout()\n",
    "plt.show()"
   ]
  },
  {
   "cell_type": "markdown",
   "id": "51ea3da1-b06b-46de-92b1-728394226ba9",
   "metadata": {},
   "source": [
    "\n",
    "#### **Sales by outlet size** "
   ]
  },
  {
   "cell_type": "code",
   "execution_count": 199,
   "id": "af2ef034-ef0e-486b-b623-b65d54eee523",
   "metadata": {},
   "outputs": [
    {
     "data": {
      "image/png": "[encoded data removed]",
      "text/plain": [
       "<Figure size 400x400 with 1 Axes>"
      ]
     },
     "metadata": {},
     "output_type": "display_data"
    }
   ],
   "source": [
    "Sales_by_size = df.groupby('Outlet Size')['Sales'].sum()\n",
    "plt.figure(figsize = (4,4))\n",
    "plt.pie(Sales_by_size, labels = Sales_by_size.index, autopct = '%1.1f%%', startangle = 90)\n",
    "plt.title('Outlet size')\n",
    "plt.tight_layout()\n",
    "plt.show()"
   ]
  },
  {
   "cell_type": "code",
   "execution_count": null,
   "id": "cdeba009-3d57-485f-9264-7e1515f8ffee",
   "metadata": {},
   "outputs": [],
   "source": []
  }
 ],
 "metadata": {
  "kernelspec": {
   "display_name": "Python [conda env:base] *",
   "language": "python",
   "name": "conda-base-py"
  },
  "language_info": {
   "codemirror_mode": {
    "name": "ipython",
    "version": 3
   },
   "file_extension": ".py",
   "mimetype": "text/x-python",
   "name": "python",
   "nbconvert_exporter": "python",
   "pygments_lexer": "ipython3",
   "version": "3.12.7"
  }
 },
 "nbformat": 4,
 "nbformat_minor": 5
}
